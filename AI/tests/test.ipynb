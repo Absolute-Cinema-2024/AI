{
 "cells": [
  {
   "cell_type": "markdown",
   "metadata": {},
   "source": [
    "## saving id sets"
   ]
  },
  {
   "cell_type": "code",
   "execution_count": 1,
   "metadata": {},
   "outputs": [
    {
     "name": "stdout",
     "output_type": "stream",
     "text": [
      "Original User IDs: {1, 2, 3, 4, 5}\n",
      "Retrieved User IDs: {1, 2, 3, 4, 5}\n"
     ]
    }
   ],
   "source": [
    "import json\n",
    "\n",
    "# Sample set of user IDs\n",
    "user_ids = {1, 2, 3, 4, 5}\n",
    "\n",
    "# Save user IDs to JSON file\n",
    "user_ids_list = list(user_ids)\n",
    "with open('user_ids.json', 'w') as file:\n",
    "    json.dump(user_ids_list, file)\n",
    "\n",
    "# Read user IDs from JSON file\n",
    "with open('user_ids.json', 'r') as file:\n",
    "    retrieved_user_ids_list = json.load(file)\n",
    "\n",
    "retrieved_user_ids = set(retrieved_user_ids_list)\n",
    "\n",
    "print(\"Original User IDs:\", user_ids)\n",
    "print(\"Retrieved User IDs:\", retrieved_user_ids)"
   ]
  },
  {
   "cell_type": "code",
   "execution_count": 6,
   "metadata": {},
   "outputs": [],
   "source": [
    "import pandas as pd"
   ]
  },
  {
   "cell_type": "code",
   "execution_count": 13,
   "metadata": {},
   "outputs": [],
   "source": [
    "user_df = pd.read_csv('Collaborative Filtering/users.csv')"
   ]
  },
  {
   "cell_type": "code",
   "execution_count": 28,
   "metadata": {},
   "outputs": [],
   "source": [
    "user_df = pd.read_csv('Content Based/movies.csv')"
   ]
  },
  {
   "cell_type": "code",
   "execution_count": 31,
   "metadata": {},
   "outputs": [],
   "source": [
    "# convert column userid type to string\n",
    "user_df['userid'] = user_df['userid'].astype(str)"
   ]
  },
  {
   "cell_type": "code",
   "execution_count": 32,
   "metadata": {},
   "outputs": [],
   "source": [
    "# save user_df['user_id'] as a set of strings\n",
    "user_ids = set(map(str, user_df['userid']))"
   ]
  },
  {
   "cell_type": "code",
   "execution_count": 33,
   "metadata": {},
   "outputs": [
    {
     "data": {
      "text/plain": [
       "86537"
      ]
     },
     "execution_count": 33,
     "metadata": {},
     "output_type": "execute_result"
    }
   ],
   "source": [
    "len(user_ids)"
   ]
  },
  {
   "cell_type": "code",
   "execution_count": 34,
   "metadata": {},
   "outputs": [],
   "source": [
    "# save user_ids to a json file\n",
    "\n",
    "user_ids_list = list(user_ids)\n",
    "with open('movie_ids.json', 'w') as file:\n",
    "    json.dump(user_ids_list, file)"
   ]
  },
  {
   "cell_type": "code",
   "execution_count": 26,
   "metadata": {},
   "outputs": [
    {
     "data": {
      "text/plain": [
       "str"
      ]
     },
     "execution_count": 26,
     "metadata": {},
     "output_type": "execute_result"
    }
   ],
   "source": [
    "type(user_ids_list[0])"
   ]
  },
  {
   "cell_type": "code",
   "execution_count": null,
   "metadata": {},
   "outputs": [],
   "source": []
  }
 ],
 "metadata": {
  "kernelspec": {
   "display_name": "base",
   "language": "python",
   "name": "python3"
  },
  "language_info": {
   "codemirror_mode": {
    "name": "ipython",
    "version": 3
   },
   "file_extension": ".py",
   "mimetype": "text/x-python",
   "name": "python",
   "nbconvert_exporter": "python",
   "pygments_lexer": "ipython3",
   "version": "3.11.7"
  }
 },
 "nbformat": 4,
 "nbformat_minor": 2
}
