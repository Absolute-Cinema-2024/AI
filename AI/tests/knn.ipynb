{
 "cells": [
  {
   "cell_type": "code",
   "execution_count": 2,
   "metadata": {},
   "outputs": [],
   "source": [
    "import pandas as pd\n",
    "import numpy as np\n",
    "from scipy.sparse import hstack\n",
    "from sklearn.neighbors import NearestNeighbors\n",
    "from sklearn.feature_extraction.text import CountVectorizer"
   ]
  },
  {
   "cell_type": "code",
   "execution_count": 4,
   "metadata": {},
   "outputs": [
    {
     "data": {
      "text/html": [
       "<div>\n",
       "<style scoped>\n",
       "    .dataframe tbody tr th:only-of-type {\n",
       "        vertical-align: middle;\n",
       "    }\n",
       "\n",
       "    .dataframe tbody tr th {\n",
       "        vertical-align: top;\n",
       "    }\n",
       "\n",
       "    .dataframe thead th {\n",
       "        text-align: right;\n",
       "    }\n",
       "</style>\n",
       "<table border=\"1\" class=\"dataframe\">\n",
       "  <thead>\n",
       "    <tr style=\"text-align: right;\">\n",
       "      <th></th>\n",
       "      <th>movieid</th>\n",
       "      <th>imdbid</th>\n",
       "      <th>tmdbid</th>\n",
       "      <th>title</th>\n",
       "      <th>poster</th>\n",
       "      <th>genres</th>\n",
       "      <th>cast</th>\n",
       "    </tr>\n",
       "  </thead>\n",
       "  <tbody>\n",
       "    <tr>\n",
       "      <th>0</th>\n",
       "      <td>182167</td>\n",
       "      <td>tt0023812</td>\n",
       "      <td>66822.0</td>\n",
       "      <td>Birds in the Spring</td>\n",
       "      <td>https://image.tmdb.org/t/p/original/3PH9xmPp8a...</td>\n",
       "      <td>{Animation,Comedy}</td>\n",
       "      <td>{\"Marion Darlington\",\"Clarence Nash\",\"Purv Pul...</td>\n",
       "    </tr>\n",
       "    <tr>\n",
       "      <th>1</th>\n",
       "      <td>182169</td>\n",
       "      <td>tt0024977</td>\n",
       "      <td>67585.0</td>\n",
       "      <td>The China Shop</td>\n",
       "      <td>https://image.tmdb.org/t/p/original/jpKtLIcANy...</td>\n",
       "      <td>{Animation}</td>\n",
       "      <td>NaN</td>\n",
       "    </tr>\n",
       "    <tr>\n",
       "      <th>2</th>\n",
       "      <td>77</td>\n",
       "      <td>tt0113973</td>\n",
       "      <td>124626.0</td>\n",
       "      <td>Nico Icon</td>\n",
       "      <td>https://image.tmdb.org/t/p/original/oE5N0E2YGp...</td>\n",
       "      <td>{Documentary}</td>\n",
       "      <td>{Nico,\"Tina Aumont\",\"Christian Aaron Boulogne\"...</td>\n",
       "    </tr>\n",
       "    <tr>\n",
       "      <th>3</th>\n",
       "      <td>116</td>\n",
       "      <td>tt0112373</td>\n",
       "      <td>51352.0</td>\n",
       "      <td>Anne Frank Remembered</td>\n",
       "      <td>https://image.tmdb.org/t/p/original/6nyhzrSGim...</td>\n",
       "      <td>{Documentary,Drama}</td>\n",
       "      <td>{\"Kenneth Branagh\",\"Glenn Close\",\"Anne Frank\",...</td>\n",
       "    </tr>\n",
       "    <tr>\n",
       "      <th>4</th>\n",
       "      <td>162</td>\n",
       "      <td>tt0109508</td>\n",
       "      <td>26564.0</td>\n",
       "      <td>Crumb</td>\n",
       "      <td>https://image.tmdb.org/t/p/original/oJWGWzaYdY...</td>\n",
       "      <td>{Documentary}</td>\n",
       "      <td>{\"Robert Crumb\",\"Aline Kominsky\",\"Charles Crum...</td>\n",
       "    </tr>\n",
       "  </tbody>\n",
       "</table>\n",
       "</div>"
      ],
      "text/plain": [
       "   movieid     imdbid    tmdbid                  title  \\\n",
       "0   182167  tt0023812   66822.0    Birds in the Spring   \n",
       "1   182169  tt0024977   67585.0         The China Shop   \n",
       "2       77  tt0113973  124626.0              Nico Icon   \n",
       "3      116  tt0112373   51352.0  Anne Frank Remembered   \n",
       "4      162  tt0109508   26564.0                  Crumb   \n",
       "\n",
       "                                              poster               genres  \\\n",
       "0  https://image.tmdb.org/t/p/original/3PH9xmPp8a...   {Animation,Comedy}   \n",
       "1  https://image.tmdb.org/t/p/original/jpKtLIcANy...          {Animation}   \n",
       "2  https://image.tmdb.org/t/p/original/oE5N0E2YGp...        {Documentary}   \n",
       "3  https://image.tmdb.org/t/p/original/6nyhzrSGim...  {Documentary,Drama}   \n",
       "4  https://image.tmdb.org/t/p/original/oJWGWzaYdY...        {Documentary}   \n",
       "\n",
       "                                                cast  \n",
       "0  {\"Marion Darlington\",\"Clarence Nash\",\"Purv Pul...  \n",
       "1                                                NaN  \n",
       "2  {Nico,\"Tina Aumont\",\"Christian Aaron Boulogne\"...  \n",
       "3  {\"Kenneth Branagh\",\"Glenn Close\",\"Anne Frank\",...  \n",
       "4  {\"Robert Crumb\",\"Aline Kominsky\",\"Charles Crum...  "
      ]
     },
     "execution_count": 4,
     "metadata": {},
     "output_type": "execute_result"
    }
   ],
   "source": [
    "movies = pd.read_csv('movies.csv')\n",
    "movies.head()"
   ]
  },
  {
   "cell_type": "code",
   "execution_count": 5,
   "metadata": {},
   "outputs": [],
   "source": [
    "def _format(features):\n",
    "    features = features.replace('{', '').replace('}', '').replace('\"', '').split(',')\n",
    "    features = [f.replace(' ', '') for f in features]\n",
    "    return ' '.join(features)"
   ]
  },
  {
   "cell_type": "code",
   "execution_count": 6,
   "metadata": {},
   "outputs": [
    {
     "data": {
      "text/html": [
       "<div>\n",
       "<style scoped>\n",
       "    .dataframe tbody tr th:only-of-type {\n",
       "        vertical-align: middle;\n",
       "    }\n",
       "\n",
       "    .dataframe tbody tr th {\n",
       "        vertical-align: top;\n",
       "    }\n",
       "\n",
       "    .dataframe thead th {\n",
       "        text-align: right;\n",
       "    }\n",
       "</style>\n",
       "<table border=\"1\" class=\"dataframe\">\n",
       "  <thead>\n",
       "    <tr style=\"text-align: right;\">\n",
       "      <th></th>\n",
       "      <th>movieid</th>\n",
       "      <th>imdbid</th>\n",
       "      <th>tmdbid</th>\n",
       "      <th>title</th>\n",
       "      <th>poster</th>\n",
       "      <th>genres</th>\n",
       "      <th>cast</th>\n",
       "    </tr>\n",
       "  </thead>\n",
       "  <tbody>\n",
       "    <tr>\n",
       "      <th>0</th>\n",
       "      <td>182167</td>\n",
       "      <td>tt0023812</td>\n",
       "      <td>66822.0</td>\n",
       "      <td>Birds in the Spring</td>\n",
       "      <td>https://image.tmdb.org/t/p/original/3PH9xmPp8a...</td>\n",
       "      <td>Animation Comedy</td>\n",
       "      <td>MarionDarlington ClarenceNash PurvPullen MaeQu...</td>\n",
       "    </tr>\n",
       "    <tr>\n",
       "      <th>1</th>\n",
       "      <td>182169</td>\n",
       "      <td>tt0024977</td>\n",
       "      <td>67585.0</td>\n",
       "      <td>The China Shop</td>\n",
       "      <td>https://image.tmdb.org/t/p/original/jpKtLIcANy...</td>\n",
       "      <td>Animation</td>\n",
       "      <td>unknown</td>\n",
       "    </tr>\n",
       "    <tr>\n",
       "      <th>2</th>\n",
       "      <td>77</td>\n",
       "      <td>tt0113973</td>\n",
       "      <td>124626.0</td>\n",
       "      <td>Nico Icon</td>\n",
       "      <td>https://image.tmdb.org/t/p/original/oE5N0E2YGp...</td>\n",
       "      <td>Documentary</td>\n",
       "      <td>Nico TinaAumont ChristianAaronBoulogne Jackson...</td>\n",
       "    </tr>\n",
       "    <tr>\n",
       "      <th>3</th>\n",
       "      <td>116</td>\n",
       "      <td>tt0112373</td>\n",
       "      <td>51352.0</td>\n",
       "      <td>Anne Frank Remembered</td>\n",
       "      <td>https://image.tmdb.org/t/p/original/6nyhzrSGim...</td>\n",
       "      <td>Documentary Drama</td>\n",
       "      <td>KennethBranagh GlennClose AnneFrank OttoFrank</td>\n",
       "    </tr>\n",
       "    <tr>\n",
       "      <th>4</th>\n",
       "      <td>162</td>\n",
       "      <td>tt0109508</td>\n",
       "      <td>26564.0</td>\n",
       "      <td>Crumb</td>\n",
       "      <td>https://image.tmdb.org/t/p/original/oJWGWzaYdY...</td>\n",
       "      <td>Documentary</td>\n",
       "      <td>RobertCrumb AlineKominsky CharlesCrumb MaxonCr...</td>\n",
       "    </tr>\n",
       "  </tbody>\n",
       "</table>\n",
       "</div>"
      ],
      "text/plain": [
       "  movieid     imdbid    tmdbid                  title  \\\n",
       "0  182167  tt0023812   66822.0    Birds in the Spring   \n",
       "1  182169  tt0024977   67585.0         The China Shop   \n",
       "2      77  tt0113973  124626.0              Nico Icon   \n",
       "3     116  tt0112373   51352.0  Anne Frank Remembered   \n",
       "4     162  tt0109508   26564.0                  Crumb   \n",
       "\n",
       "                                              poster             genres  \\\n",
       "0  https://image.tmdb.org/t/p/original/3PH9xmPp8a...   Animation Comedy   \n",
       "1  https://image.tmdb.org/t/p/original/jpKtLIcANy...          Animation   \n",
       "2  https://image.tmdb.org/t/p/original/oE5N0E2YGp...        Documentary   \n",
       "3  https://image.tmdb.org/t/p/original/6nyhzrSGim...  Documentary Drama   \n",
       "4  https://image.tmdb.org/t/p/original/oJWGWzaYdY...        Documentary   \n",
       "\n",
       "                                                cast  \n",
       "0  MarionDarlington ClarenceNash PurvPullen MaeQu...  \n",
       "1                                            unknown  \n",
       "2  Nico TinaAumont ChristianAaronBoulogne Jackson...  \n",
       "3      KennethBranagh GlennClose AnneFrank OttoFrank  \n",
       "4  RobertCrumb AlineKominsky CharlesCrumb MaxonCr...  "
      ]
     },
     "execution_count": 6,
     "metadata": {},
     "output_type": "execute_result"
    }
   ],
   "source": [
    "movies['cast'].fillna('unknown', inplace=True)\n",
    "movies['genres'].fillna('other', inplace=True)\n",
    "movies['genres'] = movies['genres'].apply(_format)\n",
    "movies['cast'] = movies['cast'].apply(_format)\n",
    "movies['movieid'] = movies['movieid'].astype(str)\n",
    "movies.head()"
   ]
  },
  {
   "cell_type": "code",
   "execution_count": 7,
   "metadata": {},
   "outputs": [],
   "source": [
    "movies['movieid'] = movies['movieid'].astype(str)\n",
    "movieid_map = [(i, movieid) for i, movieid in enumerate(movies['movieid'])]\n",
    "movieid_map = pd.DataFrame(movieid_map, columns=['index', 'movieid'])\n",
    "movieid_map.to_csv('../data/movieids.csv', index=False)"
   ]
  },
  {
   "cell_type": "code",
   "execution_count": 10,
   "metadata": {},
   "outputs": [],
   "source": [
    "# save movieid with index without set\n",
    "movieid_map = movies[['movieid']].reset_index()\n",
    "movieid_map.to_csv('../data/movieids2.csv', index=False)"
   ]
  },
  {
   "cell_type": "code",
   "execution_count": 14,
   "metadata": {},
   "outputs": [],
   "source": [
    "vectorizer = CountVectorizer()\n",
    "title = vectorizer.fit_transform(movies['title'])\n",
    "genres = vectorizer.fit_transform(movies['genres'])\n",
    "cast = vectorizer.fit_transform(movies['cast'])\n",
    "features = hstack([title, genres, cast])"
   ]
  },
  {
   "cell_type": "code",
   "execution_count": 15,
   "metadata": {},
   "outputs": [
    {
     "data": {
      "text/html": [
       "<style>#sk-container-id-1 {color: black;}#sk-container-id-1 pre{padding: 0;}#sk-container-id-1 div.sk-toggleable {background-color: white;}#sk-container-id-1 label.sk-toggleable__label {cursor: pointer;display: block;width: 100%;margin-bottom: 0;padding: 0.3em;box-sizing: border-box;text-align: center;}#sk-container-id-1 label.sk-toggleable__label-arrow:before {content: \"▸\";float: left;margin-right: 0.25em;color: #696969;}#sk-container-id-1 label.sk-toggleable__label-arrow:hover:before {color: black;}#sk-container-id-1 div.sk-estimator:hover label.sk-toggleable__label-arrow:before {color: black;}#sk-container-id-1 div.sk-toggleable__content {max-height: 0;max-width: 0;overflow: hidden;text-align: left;background-color: #f0f8ff;}#sk-container-id-1 div.sk-toggleable__content pre {margin: 0.2em;color: black;border-radius: 0.25em;background-color: #f0f8ff;}#sk-container-id-1 input.sk-toggleable__control:checked~div.sk-toggleable__content {max-height: 200px;max-width: 100%;overflow: auto;}#sk-container-id-1 input.sk-toggleable__control:checked~label.sk-toggleable__label-arrow:before {content: \"▾\";}#sk-container-id-1 div.sk-estimator input.sk-toggleable__control:checked~label.sk-toggleable__label {background-color: #d4ebff;}#sk-container-id-1 div.sk-label input.sk-toggleable__control:checked~label.sk-toggleable__label {background-color: #d4ebff;}#sk-container-id-1 input.sk-hidden--visually {border: 0;clip: rect(1px 1px 1px 1px);clip: rect(1px, 1px, 1px, 1px);height: 1px;margin: -1px;overflow: hidden;padding: 0;position: absolute;width: 1px;}#sk-container-id-1 div.sk-estimator {font-family: monospace;background-color: #f0f8ff;border: 1px dotted black;border-radius: 0.25em;box-sizing: border-box;margin-bottom: 0.5em;}#sk-container-id-1 div.sk-estimator:hover {background-color: #d4ebff;}#sk-container-id-1 div.sk-parallel-item::after {content: \"\";width: 100%;border-bottom: 1px solid gray;flex-grow: 1;}#sk-container-id-1 div.sk-label:hover label.sk-toggleable__label {background-color: #d4ebff;}#sk-container-id-1 div.sk-serial::before {content: \"\";position: absolute;border-left: 1px solid gray;box-sizing: border-box;top: 0;bottom: 0;left: 50%;z-index: 0;}#sk-container-id-1 div.sk-serial {display: flex;flex-direction: column;align-items: center;background-color: white;padding-right: 0.2em;padding-left: 0.2em;position: relative;}#sk-container-id-1 div.sk-item {position: relative;z-index: 1;}#sk-container-id-1 div.sk-parallel {display: flex;align-items: stretch;justify-content: center;background-color: white;position: relative;}#sk-container-id-1 div.sk-item::before, #sk-container-id-1 div.sk-parallel-item::before {content: \"\";position: absolute;border-left: 1px solid gray;box-sizing: border-box;top: 0;bottom: 0;left: 50%;z-index: -1;}#sk-container-id-1 div.sk-parallel-item {display: flex;flex-direction: column;z-index: 1;position: relative;background-color: white;}#sk-container-id-1 div.sk-parallel-item:first-child::after {align-self: flex-end;width: 50%;}#sk-container-id-1 div.sk-parallel-item:last-child::after {align-self: flex-start;width: 50%;}#sk-container-id-1 div.sk-parallel-item:only-child::after {width: 0;}#sk-container-id-1 div.sk-dashed-wrapped {border: 1px dashed gray;margin: 0 0.4em 0.5em 0.4em;box-sizing: border-box;padding-bottom: 0.4em;background-color: white;}#sk-container-id-1 div.sk-label label {font-family: monospace;font-weight: bold;display: inline-block;line-height: 1.2em;}#sk-container-id-1 div.sk-label-container {text-align: center;}#sk-container-id-1 div.sk-container {/* jupyter's `normalize.less` sets `[hidden] { display: none; }` but bootstrap.min.css set `[hidden] { display: none !important; }` so we also need the `!important` here to be able to override the default hidden behavior on the sphinx rendered scikit-learn.org. See: https://github.com/scikit-learn/scikit-learn/issues/21755 */display: inline-block !important;position: relative;}#sk-container-id-1 div.sk-text-repr-fallback {display: none;}</style><div id=\"sk-container-id-1\" class=\"sk-top-container\"><div class=\"sk-text-repr-fallback\"><pre>NearestNeighbors(metric=&#x27;euclidean&#x27;, n_neighbors=10)</pre><b>In a Jupyter environment, please rerun this cell to show the HTML representation or trust the notebook. <br />On GitHub, the HTML representation is unable to render, please try loading this page with nbviewer.org.</b></div><div class=\"sk-container\" hidden><div class=\"sk-item\"><div class=\"sk-estimator sk-toggleable\"><input class=\"sk-toggleable__control sk-hidden--visually\" id=\"sk-estimator-id-1\" type=\"checkbox\" checked><label for=\"sk-estimator-id-1\" class=\"sk-toggleable__label sk-toggleable__label-arrow\">NearestNeighbors</label><div class=\"sk-toggleable__content\"><pre>NearestNeighbors(metric=&#x27;euclidean&#x27;, n_neighbors=10)</pre></div></div></div></div></div>"
      ],
      "text/plain": [
       "NearestNeighbors(metric='euclidean', n_neighbors=10)"
      ]
     },
     "execution_count": 15,
     "metadata": {},
     "output_type": "execute_result"
    }
   ],
   "source": [
    "import joblib\n",
    "# joblib.dump(features, 'knn_features.dump')\n",
    "knn = NearestNeighbors(n_neighbors=10, metric='euclidean')\n",
    "knn.fit(features)"
   ]
  },
  {
   "cell_type": "code",
   "execution_count": 11,
   "metadata": {},
   "outputs": [
    {
     "data": {
      "text/html": [
       "<div>\n",
       "<style scoped>\n",
       "    .dataframe tbody tr th:only-of-type {\n",
       "        vertical-align: middle;\n",
       "    }\n",
       "\n",
       "    .dataframe tbody tr th {\n",
       "        vertical-align: top;\n",
       "    }\n",
       "\n",
       "    .dataframe thead th {\n",
       "        text-align: right;\n",
       "    }\n",
       "</style>\n",
       "<table border=\"1\" class=\"dataframe\">\n",
       "  <thead>\n",
       "    <tr style=\"text-align: right;\">\n",
       "      <th></th>\n",
       "      <th>movieid</th>\n",
       "    </tr>\n",
       "    <tr>\n",
       "      <th>index</th>\n",
       "      <th></th>\n",
       "    </tr>\n",
       "  </thead>\n",
       "  <tbody>\n",
       "    <tr>\n",
       "      <th>0</th>\n",
       "      <td>182167</td>\n",
       "    </tr>\n",
       "    <tr>\n",
       "      <th>1</th>\n",
       "      <td>182169</td>\n",
       "    </tr>\n",
       "    <tr>\n",
       "      <th>2</th>\n",
       "      <td>77</td>\n",
       "    </tr>\n",
       "    <tr>\n",
       "      <th>3</th>\n",
       "      <td>116</td>\n",
       "    </tr>\n",
       "    <tr>\n",
       "      <th>4</th>\n",
       "      <td>162</td>\n",
       "    </tr>\n",
       "  </tbody>\n",
       "</table>\n",
       "</div>"
      ],
      "text/plain": [
       "       movieid\n",
       "index         \n",
       "0       182167\n",
       "1       182169\n",
       "2           77\n",
       "3          116\n",
       "4          162"
      ]
     },
     "execution_count": 11,
     "metadata": {},
     "output_type": "execute_result"
    }
   ],
   "source": [
    "movieid_map = pd.read_csv('../data/movieids.csv', index_col='index')\n",
    "movieid_map.head()"
   ]
  },
  {
   "cell_type": "code",
   "execution_count": 13,
   "metadata": {},
   "outputs": [
    {
     "data": {
      "text/plain": [
       "86537"
      ]
     },
     "execution_count": 13,
     "metadata": {},
     "output_type": "execute_result"
    }
   ],
   "source": [
    "len(movieid_map)"
   ]
  },
  {
   "cell_type": "code",
   "execution_count": 16,
   "metadata": {},
   "outputs": [
    {
     "data": {
      "text/plain": [
       "(86537, 580054)"
      ]
     },
     "execution_count": 16,
     "metadata": {},
     "output_type": "execute_result"
    }
   ],
   "source": [
    "features.shape"
   ]
  },
  {
   "cell_type": "code",
   "execution_count": null,
   "metadata": {},
   "outputs": [],
   "source": [
    "def predict(movieids, watched):\n",
    "    watched = watched.split(',')\n",
    "    watched = [int(movieid_map.loc[movieid_map['movieid'] == movieid].index[0]) for movieid in watched]\n",
    "    watched = [features[watched].sum(axis=0)]\n",
    "    watched = hstack(watched)\n",
    "    _, indices = knn.kneighbors(watched, n_neighbors=10)\n",
    "    indices = indices[0]\n",
    "    return movieid_map.loc[indices]['movieid'].values"
   ]
  },
  {
   "cell_type": "code",
   "execution_count": null,
   "metadata": {},
   "outputs": [],
   "source": []
  },
  {
   "cell_type": "code",
   "execution_count": 3,
   "metadata": {},
   "outputs": [
    {
     "data": {
      "text/plain": [
       "movieid       0\n",
       "imdbid        0\n",
       "tmdbid      126\n",
       "title         0\n",
       "poster     2862\n",
       "genres        0\n",
       "cast       4677\n",
       "dtype: int64"
      ]
     },
     "execution_count": 3,
     "metadata": {},
     "output_type": "execute_result"
    }
   ],
   "source": [
    "# ckeck for nan values\n",
    "\n",
    "movies.isnull().sum()"
   ]
  },
  {
   "cell_type": "code",
   "execution_count": 4,
   "metadata": {},
   "outputs": [
    {
     "name": "stderr",
     "output_type": "stream",
     "text": [
      "C:\\Users\\abdok\\AppData\\Local\\Temp\\ipykernel_5384\\1981458809.py:3: FutureWarning: Setting an item of incompatible dtype is deprecated and will raise in a future error of pandas. Value 'Unknown' has dtype incompatible with float64, please explicitly cast to a compatible dtype first.\n",
      "  movies['tmdbid'].fillna('Unknown', inplace=True)\n"
     ]
    }
   ],
   "source": [
    "movies['cast'].fillna('Unknown', inplace=True)\n",
    "movies['poster'].fillna('Unknown', inplace=True)\n",
    "movies['tmdbid'].fillna('Unknown', inplace=True)"
   ]
  },
  {
   "cell_type": "code",
   "execution_count": 5,
   "metadata": {},
   "outputs": [
    {
     "data": {
      "text/plain": [
       "movieid    0\n",
       "imdbid     0\n",
       "tmdbid     0\n",
       "title      0\n",
       "poster     0\n",
       "genres     0\n",
       "cast       0\n",
       "dtype: int64"
      ]
     },
     "execution_count": 5,
     "metadata": {},
     "output_type": "execute_result"
    }
   ],
   "source": [
    "movies.isnull().sum()"
   ]
  },
  {
   "cell_type": "code",
   "execution_count": 6,
   "metadata": {},
   "outputs": [],
   "source": [
    "def get_genres(genres):\n",
    "    genres = genres.replace('{', '').replace('}', '').replace('\"', '').split(',')\n",
    "    return ' '.join(genres)\n",
    "\n",
    "def get_cast(cast):\n",
    "    cast = cast.replace('{', '').replace('}', '').replace('\"', '').split(',')\n",
    "    cast = [c.replace(' ', '') for c in cast]\n",
    "    return ' '.join(cast)"
   ]
  },
  {
   "cell_type": "code",
   "execution_count": 7,
   "metadata": {},
   "outputs": [
    {
     "name": "stdout",
     "output_type": "stream",
     "text": [
      "Animation Comedy\n",
      "MarionDarlington ClarenceNash PurvPullen MaeQuestel\n"
     ]
    }
   ],
   "source": [
    "# test the functions\n",
    "print(get_genres(movies['genres'][0]))\n",
    "print(get_cast(movies['cast'][0]))"
   ]
  },
  {
   "cell_type": "code",
   "execution_count": 8,
   "metadata": {},
   "outputs": [],
   "source": [
    "# apply the functions to the dataframe\n",
    "movies['genres'] = movies['genres'].apply(get_genres)\n",
    "movies['cast'] = movies['cast'].apply(get_cast)"
   ]
  },
  {
   "cell_type": "code",
   "execution_count": 9,
   "metadata": {},
   "outputs": [
    {
     "data": {
      "text/html": [
       "<div>\n",
       "<style scoped>\n",
       "    .dataframe tbody tr th:only-of-type {\n",
       "        vertical-align: middle;\n",
       "    }\n",
       "\n",
       "    .dataframe tbody tr th {\n",
       "        vertical-align: top;\n",
       "    }\n",
       "\n",
       "    .dataframe thead th {\n",
       "        text-align: right;\n",
       "    }\n",
       "</style>\n",
       "<table border=\"1\" class=\"dataframe\">\n",
       "  <thead>\n",
       "    <tr style=\"text-align: right;\">\n",
       "      <th></th>\n",
       "      <th>movieid</th>\n",
       "      <th>imdbid</th>\n",
       "      <th>tmdbid</th>\n",
       "      <th>title</th>\n",
       "      <th>poster</th>\n",
       "      <th>genres</th>\n",
       "      <th>cast</th>\n",
       "    </tr>\n",
       "  </thead>\n",
       "  <tbody>\n",
       "    <tr>\n",
       "      <th>0</th>\n",
       "      <td>182167</td>\n",
       "      <td>tt0023812</td>\n",
       "      <td>66822.0</td>\n",
       "      <td>Birds in the Spring</td>\n",
       "      <td>https://image.tmdb.org/t/p/original/3PH9xmPp8a...</td>\n",
       "      <td>Animation Comedy</td>\n",
       "      <td>MarionDarlington ClarenceNash PurvPullen MaeQu...</td>\n",
       "    </tr>\n",
       "    <tr>\n",
       "      <th>1</th>\n",
       "      <td>182169</td>\n",
       "      <td>tt0024977</td>\n",
       "      <td>67585.0</td>\n",
       "      <td>The China Shop</td>\n",
       "      <td>https://image.tmdb.org/t/p/original/jpKtLIcANy...</td>\n",
       "      <td>Animation</td>\n",
       "      <td>Unknown</td>\n",
       "    </tr>\n",
       "    <tr>\n",
       "      <th>2</th>\n",
       "      <td>77</td>\n",
       "      <td>tt0113973</td>\n",
       "      <td>124626.0</td>\n",
       "      <td>Nico Icon</td>\n",
       "      <td>https://image.tmdb.org/t/p/original/oE5N0E2YGp...</td>\n",
       "      <td>Documentary</td>\n",
       "      <td>Nico TinaAumont ChristianAaronBoulogne Jackson...</td>\n",
       "    </tr>\n",
       "    <tr>\n",
       "      <th>3</th>\n",
       "      <td>116</td>\n",
       "      <td>tt0112373</td>\n",
       "      <td>51352.0</td>\n",
       "      <td>Anne Frank Remembered</td>\n",
       "      <td>https://image.tmdb.org/t/p/original/6nyhzrSGim...</td>\n",
       "      <td>Documentary Drama</td>\n",
       "      <td>KennethBranagh GlennClose AnneFrank OttoFrank</td>\n",
       "    </tr>\n",
       "    <tr>\n",
       "      <th>4</th>\n",
       "      <td>162</td>\n",
       "      <td>tt0109508</td>\n",
       "      <td>26564.0</td>\n",
       "      <td>Crumb</td>\n",
       "      <td>https://image.tmdb.org/t/p/original/oJWGWzaYdY...</td>\n",
       "      <td>Documentary</td>\n",
       "      <td>RobertCrumb AlineKominsky CharlesCrumb MaxonCr...</td>\n",
       "    </tr>\n",
       "  </tbody>\n",
       "</table>\n",
       "</div>"
      ],
      "text/plain": [
       "   movieid     imdbid    tmdbid                  title  \\\n",
       "0   182167  tt0023812   66822.0    Birds in the Spring   \n",
       "1   182169  tt0024977   67585.0         The China Shop   \n",
       "2       77  tt0113973  124626.0              Nico Icon   \n",
       "3      116  tt0112373   51352.0  Anne Frank Remembered   \n",
       "4      162  tt0109508   26564.0                  Crumb   \n",
       "\n",
       "                                              poster             genres  \\\n",
       "0  https://image.tmdb.org/t/p/original/3PH9xmPp8a...   Animation Comedy   \n",
       "1  https://image.tmdb.org/t/p/original/jpKtLIcANy...          Animation   \n",
       "2  https://image.tmdb.org/t/p/original/oE5N0E2YGp...        Documentary   \n",
       "3  https://image.tmdb.org/t/p/original/6nyhzrSGim...  Documentary Drama   \n",
       "4  https://image.tmdb.org/t/p/original/oJWGWzaYdY...        Documentary   \n",
       "\n",
       "                                                cast  \n",
       "0  MarionDarlington ClarenceNash PurvPullen MaeQu...  \n",
       "1                                            Unknown  \n",
       "2  Nico TinaAumont ChristianAaronBoulogne Jackson...  \n",
       "3      KennethBranagh GlennClose AnneFrank OttoFrank  \n",
       "4  RobertCrumb AlineKominsky CharlesCrumb MaxonCr...  "
      ]
     },
     "execution_count": 9,
     "metadata": {},
     "output_type": "execute_result"
    }
   ],
   "source": [
    "movies.head()"
   ]
  },
  {
   "cell_type": "code",
   "execution_count": 13,
   "metadata": {},
   "outputs": [
    {
     "data": {
      "text/plain": [
       "(86537, 580055)"
      ]
     },
     "execution_count": 13,
     "metadata": {},
     "output_type": "execute_result"
    }
   ],
   "source": [
    "vectorizer = CountVectorizer()\n",
    "genres = vectorizer.fit_transform(movies['genres'])\n",
    "cast = vectorizer.fit_transform(movies['cast'])\n",
    "title = vectorizer.fit_transform(movies['title'])\n",
    "matrix = hstack((genres, cast, title))\n",
    "\n",
    "matrix.shape"
   ]
  },
  {
   "cell_type": "code",
   "execution_count": 14,
   "metadata": {},
   "outputs": [
    {
     "data": {
      "text/html": [
       "<style>#sk-container-id-2 {color: black;}#sk-container-id-2 pre{padding: 0;}#sk-container-id-2 div.sk-toggleable {background-color: white;}#sk-container-id-2 label.sk-toggleable__label {cursor: pointer;display: block;width: 100%;margin-bottom: 0;padding: 0.3em;box-sizing: border-box;text-align: center;}#sk-container-id-2 label.sk-toggleable__label-arrow:before {content: \"▸\";float: left;margin-right: 0.25em;color: #696969;}#sk-container-id-2 label.sk-toggleable__label-arrow:hover:before {color: black;}#sk-container-id-2 div.sk-estimator:hover label.sk-toggleable__label-arrow:before {color: black;}#sk-container-id-2 div.sk-toggleable__content {max-height: 0;max-width: 0;overflow: hidden;text-align: left;background-color: #f0f8ff;}#sk-container-id-2 div.sk-toggleable__content pre {margin: 0.2em;color: black;border-radius: 0.25em;background-color: #f0f8ff;}#sk-container-id-2 input.sk-toggleable__control:checked~div.sk-toggleable__content {max-height: 200px;max-width: 100%;overflow: auto;}#sk-container-id-2 input.sk-toggleable__control:checked~label.sk-toggleable__label-arrow:before {content: \"▾\";}#sk-container-id-2 div.sk-estimator input.sk-toggleable__control:checked~label.sk-toggleable__label {background-color: #d4ebff;}#sk-container-id-2 div.sk-label input.sk-toggleable__control:checked~label.sk-toggleable__label {background-color: #d4ebff;}#sk-container-id-2 input.sk-hidden--visually {border: 0;clip: rect(1px 1px 1px 1px);clip: rect(1px, 1px, 1px, 1px);height: 1px;margin: -1px;overflow: hidden;padding: 0;position: absolute;width: 1px;}#sk-container-id-2 div.sk-estimator {font-family: monospace;background-color: #f0f8ff;border: 1px dotted black;border-radius: 0.25em;box-sizing: border-box;margin-bottom: 0.5em;}#sk-container-id-2 div.sk-estimator:hover {background-color: #d4ebff;}#sk-container-id-2 div.sk-parallel-item::after {content: \"\";width: 100%;border-bottom: 1px solid gray;flex-grow: 1;}#sk-container-id-2 div.sk-label:hover label.sk-toggleable__label {background-color: #d4ebff;}#sk-container-id-2 div.sk-serial::before {content: \"\";position: absolute;border-left: 1px solid gray;box-sizing: border-box;top: 0;bottom: 0;left: 50%;z-index: 0;}#sk-container-id-2 div.sk-serial {display: flex;flex-direction: column;align-items: center;background-color: white;padding-right: 0.2em;padding-left: 0.2em;position: relative;}#sk-container-id-2 div.sk-item {position: relative;z-index: 1;}#sk-container-id-2 div.sk-parallel {display: flex;align-items: stretch;justify-content: center;background-color: white;position: relative;}#sk-container-id-2 div.sk-item::before, #sk-container-id-2 div.sk-parallel-item::before {content: \"\";position: absolute;border-left: 1px solid gray;box-sizing: border-box;top: 0;bottom: 0;left: 50%;z-index: -1;}#sk-container-id-2 div.sk-parallel-item {display: flex;flex-direction: column;z-index: 1;position: relative;background-color: white;}#sk-container-id-2 div.sk-parallel-item:first-child::after {align-self: flex-end;width: 50%;}#sk-container-id-2 div.sk-parallel-item:last-child::after {align-self: flex-start;width: 50%;}#sk-container-id-2 div.sk-parallel-item:only-child::after {width: 0;}#sk-container-id-2 div.sk-dashed-wrapped {border: 1px dashed gray;margin: 0 0.4em 0.5em 0.4em;box-sizing: border-box;padding-bottom: 0.4em;background-color: white;}#sk-container-id-2 div.sk-label label {font-family: monospace;font-weight: bold;display: inline-block;line-height: 1.2em;}#sk-container-id-2 div.sk-label-container {text-align: center;}#sk-container-id-2 div.sk-container {/* jupyter's `normalize.less` sets `[hidden] { display: none; }` but bootstrap.min.css set `[hidden] { display: none !important; }` so we also need the `!important` here to be able to override the default hidden behavior on the sphinx rendered scikit-learn.org. See: https://github.com/scikit-learn/scikit-learn/issues/21755 */display: inline-block !important;position: relative;}#sk-container-id-2 div.sk-text-repr-fallback {display: none;}</style><div id=\"sk-container-id-2\" class=\"sk-top-container\"><div class=\"sk-text-repr-fallback\"><pre>NearestNeighbors(metric=&#x27;euclidean&#x27;, n_neighbors=10)</pre><b>In a Jupyter environment, please rerun this cell to show the HTML representation or trust the notebook. <br />On GitHub, the HTML representation is unable to render, please try loading this page with nbviewer.org.</b></div><div class=\"sk-container\" hidden><div class=\"sk-item\"><div class=\"sk-estimator sk-toggleable\"><input class=\"sk-toggleable__control sk-hidden--visually\" id=\"sk-estimator-id-2\" type=\"checkbox\" checked><label for=\"sk-estimator-id-2\" class=\"sk-toggleable__label sk-toggleable__label-arrow\">NearestNeighbors</label><div class=\"sk-toggleable__content\"><pre>NearestNeighbors(metric=&#x27;euclidean&#x27;, n_neighbors=10)</pre></div></div></div></div></div>"
      ],
      "text/plain": [
       "NearestNeighbors(metric='euclidean', n_neighbors=10)"
      ]
     },
     "execution_count": 14,
     "metadata": {},
     "output_type": "execute_result"
    }
   ],
   "source": [
    "knn = NearestNeighbors(n_neighbors=10, metric='euclidean')\n",
    "knn.fit(matrix)"
   ]
  },
  {
   "cell_type": "code",
   "execution_count": 2,
   "metadata": {},
   "outputs": [],
   "source": [
    "import joblib"
   ]
  },
  {
   "cell_type": "code",
   "execution_count": 16,
   "metadata": {},
   "outputs": [
    {
     "data": {
      "text/plain": [
       "['matrix.dump']"
      ]
     },
     "execution_count": 16,
     "metadata": {},
     "output_type": "execute_result"
    }
   ],
   "source": [
    "joblib.dump(knn, 'knn_model.dump')\n",
    "joblib.dump(matrix, 'matrix.dump')"
   ]
  },
  {
   "cell_type": "code",
   "execution_count": 7,
   "metadata": {},
   "outputs": [
    {
     "data": {
      "text/html": [
       "<style>#sk-container-id-2 {color: black;}#sk-container-id-2 pre{padding: 0;}#sk-container-id-2 div.sk-toggleable {background-color: white;}#sk-container-id-2 label.sk-toggleable__label {cursor: pointer;display: block;width: 100%;margin-bottom: 0;padding: 0.3em;box-sizing: border-box;text-align: center;}#sk-container-id-2 label.sk-toggleable__label-arrow:before {content: \"▸\";float: left;margin-right: 0.25em;color: #696969;}#sk-container-id-2 label.sk-toggleable__label-arrow:hover:before {color: black;}#sk-container-id-2 div.sk-estimator:hover label.sk-toggleable__label-arrow:before {color: black;}#sk-container-id-2 div.sk-toggleable__content {max-height: 0;max-width: 0;overflow: hidden;text-align: left;background-color: #f0f8ff;}#sk-container-id-2 div.sk-toggleable__content pre {margin: 0.2em;color: black;border-radius: 0.25em;background-color: #f0f8ff;}#sk-container-id-2 input.sk-toggleable__control:checked~div.sk-toggleable__content {max-height: 200px;max-width: 100%;overflow: auto;}#sk-container-id-2 input.sk-toggleable__control:checked~label.sk-toggleable__label-arrow:before {content: \"▾\";}#sk-container-id-2 div.sk-estimator input.sk-toggleable__control:checked~label.sk-toggleable__label {background-color: #d4ebff;}#sk-container-id-2 div.sk-label input.sk-toggleable__control:checked~label.sk-toggleable__label {background-color: #d4ebff;}#sk-container-id-2 input.sk-hidden--visually {border: 0;clip: rect(1px 1px 1px 1px);clip: rect(1px, 1px, 1px, 1px);height: 1px;margin: -1px;overflow: hidden;padding: 0;position: absolute;width: 1px;}#sk-container-id-2 div.sk-estimator {font-family: monospace;background-color: #f0f8ff;border: 1px dotted black;border-radius: 0.25em;box-sizing: border-box;margin-bottom: 0.5em;}#sk-container-id-2 div.sk-estimator:hover {background-color: #d4ebff;}#sk-container-id-2 div.sk-parallel-item::after {content: \"\";width: 100%;border-bottom: 1px solid gray;flex-grow: 1;}#sk-container-id-2 div.sk-label:hover label.sk-toggleable__label {background-color: #d4ebff;}#sk-container-id-2 div.sk-serial::before {content: \"\";position: absolute;border-left: 1px solid gray;box-sizing: border-box;top: 0;bottom: 0;left: 50%;z-index: 0;}#sk-container-id-2 div.sk-serial {display: flex;flex-direction: column;align-items: center;background-color: white;padding-right: 0.2em;padding-left: 0.2em;position: relative;}#sk-container-id-2 div.sk-item {position: relative;z-index: 1;}#sk-container-id-2 div.sk-parallel {display: flex;align-items: stretch;justify-content: center;background-color: white;position: relative;}#sk-container-id-2 div.sk-item::before, #sk-container-id-2 div.sk-parallel-item::before {content: \"\";position: absolute;border-left: 1px solid gray;box-sizing: border-box;top: 0;bottom: 0;left: 50%;z-index: -1;}#sk-container-id-2 div.sk-parallel-item {display: flex;flex-direction: column;z-index: 1;position: relative;background-color: white;}#sk-container-id-2 div.sk-parallel-item:first-child::after {align-self: flex-end;width: 50%;}#sk-container-id-2 div.sk-parallel-item:last-child::after {align-self: flex-start;width: 50%;}#sk-container-id-2 div.sk-parallel-item:only-child::after {width: 0;}#sk-container-id-2 div.sk-dashed-wrapped {border: 1px dashed gray;margin: 0 0.4em 0.5em 0.4em;box-sizing: border-box;padding-bottom: 0.4em;background-color: white;}#sk-container-id-2 div.sk-label label {font-family: monospace;font-weight: bold;display: inline-block;line-height: 1.2em;}#sk-container-id-2 div.sk-label-container {text-align: center;}#sk-container-id-2 div.sk-container {/* jupyter's `normalize.less` sets `[hidden] { display: none; }` but bootstrap.min.css set `[hidden] { display: none !important; }` so we also need the `!important` here to be able to override the default hidden behavior on the sphinx rendered scikit-learn.org. See: https://github.com/scikit-learn/scikit-learn/issues/21755 */display: inline-block !important;position: relative;}#sk-container-id-2 div.sk-text-repr-fallback {display: none;}</style><div id=\"sk-container-id-2\" class=\"sk-top-container\"><div class=\"sk-text-repr-fallback\"><pre>NearestNeighbors(metric=&#x27;euclidean&#x27;, n_neighbors=10)</pre><b>In a Jupyter environment, please rerun this cell to show the HTML representation or trust the notebook. <br />On GitHub, the HTML representation is unable to render, please try loading this page with nbviewer.org.</b></div><div class=\"sk-container\" hidden><div class=\"sk-item\"><div class=\"sk-estimator sk-toggleable\"><input class=\"sk-toggleable__control sk-hidden--visually\" id=\"sk-estimator-id-2\" type=\"checkbox\" checked><label for=\"sk-estimator-id-2\" class=\"sk-toggleable__label sk-toggleable__label-arrow\">NearestNeighbors</label><div class=\"sk-toggleable__content\"><pre>NearestNeighbors(metric=&#x27;euclidean&#x27;, n_neighbors=10)</pre></div></div></div></div></div>"
      ],
      "text/plain": [
       "NearestNeighbors(metric='euclidean', n_neighbors=10)"
      ]
     },
     "execution_count": 7,
     "metadata": {},
     "output_type": "execute_result"
    }
   ],
   "source": [
    "matrix = joblib.load('D:\\Desktop\\DB_CRUD_OP\\AI\\models\\knn_matrix.dump')\n",
    "knn = NearestNeighbors(n_neighbors=10, metric='euclidean')\n",
    "knn.fit(matrix)"
   ]
  },
  {
   "cell_type": "code",
   "execution_count": 3,
   "metadata": {},
   "outputs": [
    {
     "data": {
      "text/html": [
       "<div>\n",
       "<style scoped>\n",
       "    .dataframe tbody tr th:only-of-type {\n",
       "        vertical-align: middle;\n",
       "    }\n",
       "\n",
       "    .dataframe tbody tr th {\n",
       "        vertical-align: top;\n",
       "    }\n",
       "\n",
       "    .dataframe thead th {\n",
       "        text-align: right;\n",
       "    }\n",
       "</style>\n",
       "<table border=\"1\" class=\"dataframe\">\n",
       "  <thead>\n",
       "    <tr style=\"text-align: right;\">\n",
       "      <th></th>\n",
       "      <th>movieid</th>\n",
       "    </tr>\n",
       "    <tr>\n",
       "      <th>index</th>\n",
       "      <th></th>\n",
       "    </tr>\n",
       "  </thead>\n",
       "  <tbody>\n",
       "    <tr>\n",
       "      <th>0</th>\n",
       "      <td>182167</td>\n",
       "    </tr>\n",
       "    <tr>\n",
       "      <th>1</th>\n",
       "      <td>182169</td>\n",
       "    </tr>\n",
       "    <tr>\n",
       "      <th>2</th>\n",
       "      <td>77</td>\n",
       "    </tr>\n",
       "    <tr>\n",
       "      <th>3</th>\n",
       "      <td>116</td>\n",
       "    </tr>\n",
       "    <tr>\n",
       "      <th>4</th>\n",
       "      <td>162</td>\n",
       "    </tr>\n",
       "  </tbody>\n",
       "</table>\n",
       "</div>"
      ],
      "text/plain": [
       "       movieid\n",
       "index         \n",
       "0       182167\n",
       "1       182169\n",
       "2           77\n",
       "3          116\n",
       "4          162"
      ]
     },
     "execution_count": 3,
     "metadata": {},
     "output_type": "execute_result"
    }
   ],
   "source": [
    "movieid_map = pd.read_csv('../data/movieids.csv', index_col='index')\n",
    "movieid_map.head()"
   ]
  },
  {
   "cell_type": "code",
   "execution_count": 22,
   "metadata": {},
   "outputs": [],
   "source": [
    "def get_recommendation(movieid):\n",
    "    movie = movies[movies['movieid'] == movieid]\n",
    "    movie_index = movie.index[0]\n",
    "    distances, indices = knn.kneighbors(combined[movie_index], n_neighbors=11)\n",
    "    recommended_movies = []\n",
    "    for i in indices:\n",
    "        recommended_movies.append(movies.iloc[i])\n",
    "    return recommended_movies\n",
    "\n",
    "def get_movieid(title):\n",
    "    return movies[movies['title'] == title]['movieid'].values[0]\n",
    "\n",
    "def get_movie_title(movieid):\n",
    "    return movies[movies['movieid'] == movieid]['title'].values[0]"
   ]
  },
  {
   "cell_type": "code",
   "execution_count": 21,
   "metadata": {},
   "outputs": [
    {
     "name": "stdout",
     "output_type": "stream",
     "text": [
      "[[0.         0.4452998  0.64887656 0.68011836 0.68302846 0.70212227\n",
      "  0.72220805 0.72563526 0.73050222 0.73472095 0.7415617 ]]\n"
     ]
    },
    {
     "data": {
      "text/plain": [
       "[       movieid     imdbid    tmdbid                       title  \\\n",
       " 48           1  tt0114709     862.0                   Toy Story   \n",
       " 5105      3114  tt0120363     863.0                 Toy Story 2   \n",
       " 16732    78499  tt0435761   10193.0                 Toy Story 3   \n",
       " 4348      2355  tt0120623    9487.0                A Bug's Life   \n",
       " 61443   201588  tt1979376  301528.0                 Toy Story 4   \n",
       " 25671   120474  tt3473654  256835.0  Toy Story That Time Forgot   \n",
       " 24278   115875  tt1850374   77887.0           Hawaiian Vacation   \n",
       " 6840      4886  tt0198781     585.0              Monsters, Inc.   \n",
       " 2773       588  tt0103639     812.0                     Aladdin   \n",
       " 22219   106022  tt2446040  213121.0        Toy Story of Terror!   \n",
       " 80013   267944  tt0268096  193970.0     Christmas in Tattertown   \n",
       " \n",
       "                                                   poster  \\\n",
       " 48     https://image.tmdb.org/t/p/original/uXDfjJbdP4...   \n",
       " 5105   https://image.tmdb.org/t/p/original/2MFIhZAW0C...   \n",
       " 16732  https://image.tmdb.org/t/p/original/AbbXspMOwd...   \n",
       " 4348   https://image.tmdb.org/t/p/original/Ah3J9OJVc2...   \n",
       " 61443  https://image.tmdb.org/t/p/original/w9kR8qbmQ0...   \n",
       " 25671  https://image.tmdb.org/t/p/original/pw1YgzcBw4...   \n",
       " 24278  https://image.tmdb.org/t/p/original/tByW10AkjW...   \n",
       " 6840   https://image.tmdb.org/t/p/original/wFSpyMsp7H...   \n",
       " 2773   https://image.tmdb.org/t/p/original/eLFfl7vS8d...   \n",
       " 22219  https://image.tmdb.org/t/p/original/oPBEnNP4Fg...   \n",
       " 80013  https://image.tmdb.org/t/p/original/c3Df26g76w...   \n",
       " \n",
       "                                                   genres  \\\n",
       " 48             Adventure Animation Comedy Family Fantasy   \n",
       " 5105           Adventure Animation Comedy Family Fantasy   \n",
       " 16732     Adventure Animation Comedy Family Fantasy IMAX   \n",
       " 4348                   Adventure Animation Comedy Family   \n",
       " 61443          Adventure Animation Comedy Family Fantasy   \n",
       " 25671                  Adventure Animation Comedy Family   \n",
       " 24278          Adventure Animation Comedy Family Fantasy   \n",
       " 6840           Adventure Animation Comedy Family Fantasy   \n",
       " 2773   Adventure Animation Comedy Family Fantasy Musi...   \n",
       " 22219                  Adventure Animation Comedy Family   \n",
       " 80013          Adventure Animation Comedy Family Fantasy   \n",
       " \n",
       "                                                     cast  \n",
       " 48     TomHanks TimAllen DonRickles JimVarney Wallace...  \n",
       " 5105   TomHanks TimAllen JoanCusack KelseyGrammer Don...  \n",
       " 16732  TomHanks TimAllen JoanCusack DonRickles Wallac...  \n",
       " 4348   DaveFoley KevinSpacey JuliaLouis-Dreyfus Hayde...  \n",
       " 61443  TomHanks TimAllen AnniePotts TonyHale Keegan-M...  \n",
       " 25671  KristenSchaal KevinMcKidd TomHanks TimAllen Em...  \n",
       " 24278  TomHanks TimAllen JoanCusack DonRickles Estell...  \n",
       " 6840   JohnGoodman BillyCrystal MaryGibbs SteveBuscem...  \n",
       " 2773   ScottWeinger RobinWilliams LindaLarkin Jonatha...  \n",
       " 22219  JoanCusack CarlWeathers TomHanks TimAllen Step...  \n",
       " 80013                 SherryLynn KeithDavid CharlieAdler  ]"
      ]
     },
     "execution_count": 21,
     "metadata": {},
     "output_type": "execute_result"
    }
   ],
   "source": [
    "def get_recommendation(user_ratings, top_n=50): # list of tuples (movieid, rating)\n",
    "    # use weighted distance based on rating and get top n recommendations in total\n",
    "    combined = {}\n",
    "    for movieid, rating in user_ratings:\n",
    "        movie = movies[movies['movieid'] == movieid]\n",
    "        movie_index = movie.index[0]\n",
    "        distances, indices = knn.kneighbors(combined[movie_index], n_neighbors=11)\n",
    "        for i in indices:\n",
    "            if i not in combined:\n",
    "                combined[i] = 0\n",
    "            combined[i] += distances[i] / rating\n",
    "    combined = sorted(combined.items(), key=lambda x: x[1], reverse=True)\n",
    "    recommended_movies = []\n",
    "    for i in combined[:top_n]:\n",
    "        recommended_movies.append(movies.iloc[i])\n",
    "    return recommended_movies"
   ]
  },
  {
   "cell_type": "code",
   "execution_count": 28,
   "metadata": {},
   "outputs": [
    {
     "data": {
      "text/plain": [
       "['matrix.pkl']"
      ]
     },
     "execution_count": 28,
     "metadata": {},
     "output_type": "execute_result"
    }
   ],
   "source": [
    "# save all model components\n",
    "import joblib\n",
    "joblib.dump(knn, 'knn_model.pkl')\n",
    "# joblib.dump(movies, 'movies.pkl')\n",
    "joblib.dump(vectorizer, 'vectorizer.pkl')\n",
    "joblib.dump(combined, 'matrix.pkl')"
   ]
  },
  {
   "cell_type": "code",
   "execution_count": 30,
   "metadata": {},
   "outputs": [
    {
     "data": {
      "text/plain": [
       "['count_vectorizer.dump']"
      ]
     },
     "execution_count": 30,
     "metadata": {},
     "output_type": "execute_result"
    }
   ],
   "source": [
    "\n",
    "# Assuming 'knn_model' is your KNN model and 'count_vectorizer' is your CountVectorizer\n",
    "joblib.dump(knn, 'knn_model.dump')\n",
    "joblib.dump(vectorizer, 'count_vectorizer.dump')"
   ]
  },
  {
   "cell_type": "code",
   "execution_count": null,
   "metadata": {},
   "outputs": [],
   "source": []
  }
 ],
 "metadata": {
  "kernelspec": {
   "display_name": "base",
   "language": "python",
   "name": "python3"
  },
  "language_info": {
   "codemirror_mode": {
    "name": "ipython",
    "version": 3
   },
   "file_extension": ".py",
   "mimetype": "text/x-python",
   "name": "python",
   "nbconvert_exporter": "python",
   "pygments_lexer": "ipython3",
   "version": "3.11.7"
  }
 },
 "nbformat": 4,
 "nbformat_minor": 2
}
